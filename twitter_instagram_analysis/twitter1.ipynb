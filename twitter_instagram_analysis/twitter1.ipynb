{
 "cells": [
  {
   "cell_type": "code",
   "execution_count": 2,
   "metadata": {},
   "outputs": [],
   "source": [
    "import numpy as np\n",
    "import tweepy\n",
    "import csv\n",
    "import heapq"
   ]
  },
  {
   "cell_type": "code",
   "execution_count": 3,
   "metadata": {},
   "outputs": [],
   "source": [
    "consumer_key = \"h2xAoS2a53tym66zuL4AT4XsP\"\n",
    "consumer_secret = \"lYYTpZVAsI2bD1sLlfaKPFMrTFXy5TklGgcxuroYZf9efzOBsZ\"\n",
    "access_key = \"737957992050659328-TficjmvwqLvCl0FceIt8dBBZWwkGD58\"\n",
    "access_secret = \"lJ95FFKiWzJZ5roZpjPGBlXfnpzGGJmZUNpfdT4zSelf0\""
   ]
  },
  {
   "cell_type": "code",
   "execution_count": 4,
   "metadata": {},
   "outputs": [],
   "source": [
    "def get_tweets(user_name):\n",
    "    \n",
    "    auth = tweepy.OAuthHandler(consumer_key, consumer_secret)\n",
    "    auth.set_access_token(access_key, access_secret)\n",
    "    api = tweepy.API(auth)\n",
    "    \n",
    "    \n",
    "    \n",
    "    new_tweets, alltweets = api.user_timeline(screen_name = user_name, count=200), []\n",
    "    \n",
    "    alltweets.extend(new_tweets)\n",
    "    \n",
    "    oldest = alltweets[-1].id - 1\n",
    "    \n",
    "    \n",
    "    while len(alltweets) <= 3200:\n",
    "        new_tweets = api.user_timeline(screen_name = user_name,count=200,max_id=oldest,include_entities=True) \n",
    "        alltweets.extend(new_tweets)\n",
    "        oldest = alltweets[-1].id - 1\n",
    "        outtweets = []\n",
    "        a, b = \"0\", \"0\"\n",
    "        for tweet in alltweets:\n",
    "            a = \"https://twitter.com/i/web/status/\" + tweet.id_str\n",
    "            outtweets.append([tweet.id_str, tweet.created_at, tweet.text, tweet.favorite_count, tweet.retweet_count, a])\n",
    "        with open('%s_tweets.csv' % user_name, 'w') as f:\n",
    "            writer = csv.writer(f)\n",
    "            writer.writerow([\"id\",\"created_at\",\"text\", \"favorite_count\", \"retweet_count\", \"extended_url\"])\n",
    "            writer.writerows(outtweets)\n",
    "        \n",
    "        pass\n",
    "    return alltweets"
   ]
  },
  {
   "cell_type": "code",
   "execution_count": 5,
   "metadata": {},
   "outputs": [],
   "source": [
    "def get_hash_dict_tweet(username):\n",
    "    alltweets = get_tweets(username)\n",
    "    hashtags_dict = {}\n",
    "    for tweet in alltweets:\n",
    "        hashtags = tweet.entities.get('hashtags')\n",
    "        for hashtag1 in hashtags:\n",
    "            if hashtag1['text'] not in hashtags_dict.keys():\n",
    "                hashtags_dict[hashtag1['text']] = 1\n",
    "            else:\n",
    "                hashtags_dict[hashtag1['text']] += 1\n",
    "    \n",
    "    return hashtags_dict"
   ]
  },
  {
   "cell_type": "code",
   "execution_count": 6,
   "metadata": {},
   "outputs": [
    {
     "name": "stdout",
     "output_type": "stream",
     "text": [
      "{'HarVoteModiKo': 11, 'MyFirstVoteForModi': 4, 'ModiAgainSaysIndia': 16, 'ModiHiAayega': 8, 'NaMoForNewIndia': 13, 'VoteKar': 2, 'ModiOnceMore': 15, 'PhirEkBaarModiSarkar': 16, 'IsBaarNaMoPhirSe': 17, 'ModiSpeaksToNews18': 2, 'BJPSankalpPatr2019': 51, 'NaMoAgain': 1, 'IsBaarPhirModi': 16, 'IndiaWantsModiAgain': 8, 'MainBhiChowkidar': 28, 'ModiLaoDeshBanao': 7, 'PMModiOnABP': 4, 'NamoMerchandise': 1, 'JantaMaafNahiKaregi': 2, 'PhirEkBaarModiSarkaar': 4, 'DeshKeLiyeModi': 17, 'BharatBoleModiModi': 11, 'AmitShahOnZee': 2, 'IndiaSaysNaMoAgain': 4, 'News18AgendaIndia': 3, 'NorthEast4Modi': 6, 'ModiSpeaksToBharat': 12, 'NewIndia': 1, 'AmitShahAtIndiaTV': 2, 'IndiaWithNaMo': 16, 'IndiaWithModi': 1, 'MissionShakti': 8, 'BJPVijaySankalp': 3, 'ModiAgain': 1, 'उत्तरप्रदेश_विजय_संकल्प': 1, 'BhaagRahulBhaag': 1, 'CongressInsultsIndia': 1, 'EmpoweringNariShakti': 1, 'ChowkidarPhirSe': 5, 'स्वस्थ_भारत_सशक्त_भारत': 1, 'ModiHaiToMumkinHai': 1, 'MainBhiChowkidaar': 1, 'StartupIndia': 8, 'BharatKeMannKiBaat': 2, 'NewIndia4NariShakti': 9, 'MahilayonKeMannKiBaat': 1, 'NewIndia4Narishakti': 8, 'SwachhBharat': 1, 'TNWelcomesModi': 1, 'ModiMattomme': 4, 'MPWithNaMo': 3, 'GujaratSaysNaMoAgain': 4, 'महाशिवरात्रि': 1, 'HereAreTheJobs': 1, 'ModiInAmethi': 4, 'MadeInAmethi': 1, 'BiharWithModi': 4, 'SIH2019': 1, 'ModiAtConclave19': 4, 'BJPVijaySankalpBikeRally': 17, 'ConstituencyUpdate': 1, 'Kathua': 1, 'VIDEO': 1, 'AbkiBaarPhirModiSarkar': 1, 'BJPVIjaySankalpBikeRally': 5, 'विजय_संकल्प_बाईक_रैली': 2, 'मेरठ_कैंट_विधानसभा': 1, 'BJP4Telangana': 1, 'DrKLaxman': 1, 'भाजपा_विजय_संकल्प_बाइक_रैली': 1, 'Chandigarh': 1, 'विजय_संकल्प_बाइक_रैली': 1, 'विजय': 1}\n"
     ]
    }
   ],
   "source": [
    "hashtags_dict = get_hash_dict_tweet(\"BJP4India\")\n",
    "\n",
    "print(hashtags_dict)"
   ]
  },
  {
   "cell_type": "code",
   "execution_count": 7,
   "metadata": {},
   "outputs": [],
   "source": [
    "with open(\"BJP4India_tweets.csv\") as csvfile:\n",
    "    tweets_BJP = list(csv.reader(csvfile))\n",
    "    tweets_BJP = tweets_BJP[1:]"
   ]
  },
  {
   "cell_type": "code",
   "execution_count": 15,
   "metadata": {},
   "outputs": [],
   "source": [
    "def get_fav_count_list(tweet_list):\n",
    "    list_favorite_count = [(int)(tweet_list[i][3]) for i in range(3200)]\n",
    "    max_fav_tweet = max(list_favorite_count)\n",
    "    print(max_fav_tweet)\n",
    "    max_idx = list_favorite_count.index(max_fav_tweet)\n",
    "    print(tweet_list[max_idx])"
   ]
  },
  {
   "cell_type": "code",
   "execution_count": 16,
   "metadata": {},
   "outputs": [
    {
     "name": "stdout",
     "output_type": "stream",
     "text": [
      "43518\n",
      "['1110886268408233984', '2019-03-27 12:48:20', \"Congress led UPA\\nSurgical Strike : Don't do it\\nAir Strike: Don't do it\\nA-SAT Missile: Don't do it\\n\\nModi Sarkar\\nSurg… https://t.co/2014flbfzy\", '43518', '13819', 'https://twitter.com/i/web/status/1110886268408233984']\n"
     ]
    }
   ],
   "source": [
    "get_fav_count_list(tweets_BJP)"
   ]
  },
  {
   "cell_type": "code",
   "execution_count": 18,
   "metadata": {},
   "outputs": [],
   "source": [
    "def get_list_retweets(tweet_list):\n",
    "    list_retweets = [(int)(tweet_list[i][4]) for i in range(3200)]\n",
    "    max_retweeted_tweet = max(list_retweets)\n",
    "    print(max_retweeted_tweet)\n",
    "    max_idx_retweet = list_retweets.index(max_retweeted_tweet)\n",
    "    print(tweet_list[max_idx_retweet])"
   ]
  },
  {
   "cell_type": "code",
   "execution_count": 19,
   "metadata": {},
   "outputs": [
    {
     "name": "stdout",
     "output_type": "stream",
     "text": [
      "56323\n",
      "['1106767552351559680', '2019-03-16 04:02:01', 'RT @narendramodi: Your Chowkidar is standing firm &amp; serving the nation.\\n\\nBut, I am not alone.\\n\\nEveryone who is fighting corruption, dirt, s…', '0', '56323', 'https://twitter.com/i/web/status/1106767552351559680']\n"
     ]
    }
   ],
   "source": [
    "get_list_retweets(tweets_BJP)"
   ]
  },
  {
   "cell_type": "code",
   "execution_count": 20,
   "metadata": {},
   "outputs": [],
   "source": [
    "def get_popular_tweet_list(tweet_list):\n",
    "    popular_tweet_list = [((int)(tweet_list[i][4])*5 + (int)(tweet_list[i][3])) for i in range(3200)]\n",
    "    larg_5 = heapq.nlargest(5, popular_tweet_list)\n",
    "    indices_lis = [popular_tweet_list.index(elem) for elem in larg_5]\n",
    "    \n",
    "    print(\"Top 5 Most popular Tweets: \")\n",
    "    for i in range(5):\n",
    "        print(\"Popularity Score: \", larg_5[i], \"Tweet: \", tweet_list[indices_lis[i]][2])"
   ]
  },
  {
   "cell_type": "code",
   "execution_count": 21,
   "metadata": {},
   "outputs": [
    {
     "name": "stdout",
     "output_type": "stream",
     "text": [
      "Top 5 Most popular Tweets: \n",
      "Popularity Score:  281615 Tweet:  RT @narendramodi: Your Chowkidar is standing firm &amp; serving the nation.\n",
      "\n",
      "But, I am not alone.\n",
      "\n",
      "Everyone who is fighting corruption, dirt, s…\n",
      "Popularity Score:  176775 Tweet:  RT @narendramodi: #MissionShakti is special for 2 reasons:\n",
      "(1) India is only the 4th country to acquire such a specialised &amp; modern capabil…\n",
      "Popularity Score:  165405 Tweet:  RT @narendramodi: मेरे प्यारे देशवासियों, \n",
      "\n",
      "आज सवेरे लगभग 11.45 - 12.00 बजे मैं एक महत्वपूर्ण संदेश लेकर आप के बीच आऊँगा। \n",
      "\n",
      "I would be addr…\n",
      "Popularity Score:  148905 Tweet:  RT @narendramodi: Shri Manohar Parrikar was an unparalleled leader. \n",
      "\n",
      "A true patriot and exceptional administrator, he was admired by all.…\n",
      "Popularity Score:  139950 Tweet:  RT @narendramodi: Fellow Indians,\n",
      "\n",
      "Happy that #MainBhiChowkidar has ignited the Chowkidar within all of us. Great fervour! \n",
      "\n",
      "Ecstatic to se…\n"
     ]
    }
   ],
   "source": [
    "get_popular_tweet_list(tweets_BJP)"
   ]
  },
  {
   "cell_type": "code",
   "execution_count": 29,
   "metadata": {},
   "outputs": [
    {
     "name": "stdout",
     "output_type": "stream",
     "text": [
      "['BJPSankalpPatr2019', 'MainBhiChowkidar', 'IsBaarNaMoPhirSe', 'DeshKeLiyeModi', 'BJPVijaySankalpBikeRally']\n"
     ]
    }
   ],
   "source": [
    "reverse_sorted_dict = sorted(hashtags_dict, key=hashtags_dict.get, reverse=True)\n",
    "print(reverse_sorted_dict[0:5])"
   ]
  }
 ],
 "metadata": {
  "kernelspec": {
   "display_name": "Python 3",
   "language": "python",
   "name": "python3"
  },
  "language_info": {
   "codemirror_mode": {
    "name": "ipython",
    "version": 3
   },
   "file_extension": ".py",
   "mimetype": "text/x-python",
   "name": "python",
   "nbconvert_exporter": "python",
   "pygments_lexer": "ipython3",
   "version": "3.6.7"
  }
 },
 "nbformat": 4,
 "nbformat_minor": 2
}
